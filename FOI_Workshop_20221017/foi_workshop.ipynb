{
 "cells": [
  {
   "cell_type": "markdown",
   "metadata": {
    "colab_type": "text",
    "id": "view-in-github"
   },
  },
  {
   "cell_type": "markdown",
   "metadata": {
    "id": "254Wz7odEXqM"
   },
   "source": [
    "\n",
    "Import the libraries needed and define some variables \n"
   ]
  },
  {
   "cell_type": "code",
   "execution_count": null,
   "metadata": {
    "colab": {
     "base_uri": "https://localhost:8080/"
    },
    "id": "A0LJMPi8wa6T",
    "outputId": "e85b1575-1261-48f1-aa98-f892c7fd2684"
   },
   "outputs": [],
   "source": [
    "!pip install pyTigerGraph\n",
    "!pip install pandas\n",
    "# Imports\n",
    "import numpy as np \n",
    "import pandas as pd\n",
    "import pyTigerGraph as tg\n",
    "import re"
   ]
  },
  {
   "cell_type": "markdown",
   "metadata": {
    "id": "FT38qoFCN0jm"
   },
   "source": [
    "Please put here your specific setup variables:"
   ]
  },
  {
   "cell_type": "code",
   "execution_count": 14,
   "metadata": {
    "id": "yvv34S3-OLVr"
   },
   "outputs": [],
   "source": [
    "# please change this settings here:\n",
    "tghost=\"https://kg123.i.tgcloud.io\"\n",
    "tguser=\"user_1\" \n",
    "tgpass=\"S1guran_Password\""
   ]
  },
  {
   "cell_type": "code",
   "execution_count": 15,
   "metadata": {
    "id": "gwr3SrOzNvpS"
   },
   "outputs": [],
   "source": [
    "# TG\n",
    "tgconn = tg.TigerGraphConnection(host=tghost, username=tguser, password=tgpass)"
   ]
  },
  {
   "cell_type": "markdown",
   "metadata": {
    "id": "6HNpwdo2Snmu"
   },
   "source": [
    "Now, let's start with DDL (vertices and edges)"
   ]
  },
  {
   "cell_type": "code",
   "execution_count": null,
   "metadata": {
    "colab": {
     "base_uri": "https://localhost:8080/"
    },
    "id": "6tveqsMGSt-h",
    "outputId": "2282d9e8-5885-4bcf-ca86-8ed103e5fdfa"
   },
   "outputs": [],
   "source": [
    "!wget https://raw.githubusercontent.com/xpertmind/RecipeNLG/main/setup.gsql -O setup.gsql\n",
    "with open(\"./setup.gsql\") as f:\n",
    "    contents = f.read()\n",
    "print(tgconn.gsql(contents, options=[]))\n",
    "# now connect to graph \n",
    "tgconn.graphname = \"RecipeNLG\" \n",
    "secret = tgconn.createSecret(\"FOI_Workshop\")\n",
    "print(\"Secret -> \"+secret)\n",
    "token = tgconn.getToken(secret)"
   ]
  },
  {
   "cell_type": "markdown",
   "metadata": {
    "id": "lBgEatJVi5M4"
   },
   "source": [
    "Start data upload"
   ]
  },
  {
   "cell_type": "code",
   "execution_count": null,
   "metadata": {
    "colab": {
     "base_uri": "https://localhost:8080/"
    },
    "id": "2UwFcGb0i7X4",
    "outputId": "044688b4-7c3a-4199-9c41-c72c9f35039c"
   },
   "outputs": [],
   "source": [
    "counter = 0\n",
    "chunk_size = 100\n",
    "# chunk_size -> how many records would be pushed in a single step to the server using RESTApi \n",
    "filter_out_chars = ['\\\"', '\\[', '\\]', '\\00b0', '\t']\n",
    "pattern = '[' +  ''.join(filter_out_chars) +  ']'\n",
    "\n",
    "try:\n",
    "    f = open(\"./dataset.csv.zip\")\n",
    "except FileNotFoundError:\n",
    "    print(\"Datafile not found - downloading!\")\n",
    "    !wget \"https://my.graph.place/dl/dataset.csv.zip\"\n",
    "\n",
    "with pd.read_csv(\"./dataset.csv.zip\", compression='zip', delimiter=',', keep_default_na=False, na_values='\\\\N', chunksize=chunk_size) as df:\n",
    "\n",
    "      for chunk in df:\n",
    "\n",
    "        counter += 1\n",
    "        recipe = []\n",
    "        recipe_keyword = []\n",
    "        recipe_ingredient = []\n",
    "        howto_cook = []\n",
    "        step = 0\n",
    "\n",
    "        for row in chunk.itertuples(index=False):\n",
    "            recipe.append((row[0]+1, {\"title\": row[1], \"link\": row[4], \"source\": row[5]}))\n",
    "            \n",
    "            # do some data cleaning based on pattern and filter_out_chars (problem with Pandas recognising list as string)\n",
    "            item_list = list(row[2].split(\",\"))\n",
    "            for item in item_list:\n",
    "                item = re.sub(pattern, '', item).strip()\n",
    "                recipe_ingredient.append((row[0]+1, item))\n",
    "\n",
    "            item_list = list(row[6].split(\",\"))\n",
    "            for item in item_list:\n",
    "                # do some data cleaning based on pattern and filter_out_chars (problem with Pandas recognising list as string)\n",
    "                item = re.sub(pattern, '', item).strip()\n",
    "                recipe_keyword.append((row[0]+1, item))\n",
    "            \n",
    "            item_list = list(row[3].split(\",\"))\n",
    "            for item in item_list:\n",
    "                step += 1\n",
    "                item = re.sub(pattern, '', item).strip()\n",
    "                if item:\n",
    "                    howto_cook.append((row[0]+1, item, {\"step\": step}))\n",
    "            step = 0\n",
    "        # Upsert chunk_size of records\n",
    "        tgconn.upsertVertices(\"recipes\", recipe)\n",
    "        tgconn.upsertEdges(\"recipes\", \"recipe_keyword\", \"keywords\", recipe_keyword)\n",
    "        tgconn.upsertEdges(\"recipes\", \"recipe_ingredient\", \"ingredients\", recipe_ingredient)\n",
    "        tgconn.upsertEdges(\"recipes\", \"howto_cook\", \"directions\", howto_cook)\n",
    "        \n",
    "        print(\"------ Chunk \" + str(counter))"
   ]
  },
  {
   "cell_type": "markdown",
   "metadata": {
    "id": "SohJJkT6DobP"
   },
   "source": [
    "Done"
   ]
  }
 ],
 "metadata": {
  "colab": {
   "authorship_tag": "ABX9TyOLg5AutUlOFcVhOXIYF+GS",
   "include_colab_link": true,
   "name": "setup_workshop.ipynb",
   "provenance": []
  },
  "kernelspec": {
   "display_name": "Python 3 (ipykernel)",
   "language": "python",
   "name": "python3"
  },
  "language_info": {
   "codemirror_mode": {
    "name": "ipython",
    "version": 3
   },
   "file_extension": ".py",
   "mimetype": "text/x-python",
   "name": "python",
   "nbconvert_exporter": "python",
   "pygments_lexer": "ipython3",
   "version": "3.9.9"
  },
  "toc-showmarkdowntxt": false
 },
 "nbformat": 4,
 "nbformat_minor": 4
}
